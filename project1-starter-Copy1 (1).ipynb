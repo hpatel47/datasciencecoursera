{
 "cells": [
  {
   "cell_type": "markdown",
   "metadata": {},
   "source": [
    "# Project 1\n",
    "\n",
    "In this first project you will create a framework to scope out data science projects. This framework will provide you with a guide to develop a well-articulated problem statement and analysis plan that will be robust and reproducible.\n",
    "\n",
    "Let's start with an example problem statement first, and then move on to working with the admission dataset.\n",
    "\n",
    "Complete all questions directly in the Jupyter notebook for your assignment. The first part is to help re-familairize yourself with the major concepts, and teh second part is what you will be evaluated on in the rubric for how well you can apply those concepts to a real dataset."
   ]
  },
  {
   "cell_type": "markdown",
   "metadata": {},
   "source": [
    "### Read and evaluate the following problem statement: \n",
    "Determine which free-tier customers will covert to paying customers, using demographic data collected at signup (age, gender, location, and profession) and customer useage data (days since last log in, and activity score 1 = active user, 0= inactive user) based on Hooli data from Jan-Apr 2015. \n"
   ]
  },
  {
   "cell_type": "markdown",
   "metadata": {},
   "source": [
    "#### 1. What is the outcome?"
   ]
  },
  {
   "cell_type": "markdown",
   "metadata": {},
   "source": [
    "Answer: "
   ]
  },
  {
   "cell_type": "markdown",
   "metadata": {},
   "source": [
    "#### 2. What are the predictors/covariates? "
   ]
  },
  {
   "cell_type": "markdown",
   "metadata": {},
   "source": [
    "Answer: "
   ]
  },
  {
   "cell_type": "markdown",
   "metadata": {},
   "source": [
    "#### 3. What timeframe is this data relevent for?"
   ]
  },
  {
   "cell_type": "markdown",
   "metadata": {},
   "source": [
    "Answer: "
   ]
  },
  {
   "cell_type": "markdown",
   "metadata": {},
   "source": [
    "#### 4. What is the hypothesi?"
   ]
  },
  {
   "cell_type": "markdown",
   "metadata": {},
   "source": [
    "Answer: "
   ]
  },
  {
   "cell_type": "markdown",
   "metadata": {},
   "source": [
    "## Let's get started with our dataset"
   ]
  },
  {
   "cell_type": "markdown",
   "metadata": {},
   "source": [
    "#### 1. Create a data dictionary "
   ]
  },
  {
   "cell_type": "markdown",
   "metadata": {},
   "source": [
    "Answer (you should change the entered information in the table to match your admissions data: \n",
    "\n",
    "Variable | Description | Type of Variable\n",
    "---| ---| ---\n",
    "admit | 0 = not admitted 1 = admitted | categorical\n",
    "Gre | Gre score in inetger | continuous \n",
    "gpa | Grade point average in float | continuous\n",
    "prestige | Inetger | categorical\n"
   ]
  },
  {
   "cell_type": "markdown",
   "metadata": {},
   "source": [
    "We would like to explore the association between X and Y "
   ]
  },
  {
   "cell_type": "markdown",
   "metadata": {},
   "source": [
    "#### 2. What is the outcome of interest?"
   ]
  },
  {
   "cell_type": "markdown",
   "metadata": {},
   "source": [
    "#based on Gpa and Gre we can predict if student will be admitted or not"
   ]
  },
  {
   "cell_type": "markdown",
   "metadata": {},
   "source": [
    "#### 3. What are the predictors and vairables you want to control for (covariates)? "
   ]
  },
  {
   "cell_type": "markdown",
   "metadata": {},
   "source": [
    "Gpa and Gre"
   ]
  },
  {
   "cell_type": "markdown",
   "metadata": {},
   "source": [
    "#### 4. What timeframe is this data relevent for?"
   ]
  },
  {
   "cell_type": "markdown",
   "metadata": {},
   "source": [
    "Answer: Data is not relavant to timeframe"
   ]
  },
  {
   "cell_type": "markdown",
   "metadata": {},
   "source": [
    "#### 4. What is the hypothesis?"
   ]
  },
  {
   "cell_type": "markdown",
   "metadata": {},
   "source": [
    "Answer: Higer the GRE and GPA are higher chances for student to be admitted."
   ]
  },
  {
   "cell_type": "markdown",
   "metadata": {},
   "source": [
    "#Using the above information, write a well-formed problem statement using variables of your choice. \n",
    "#Using admission data, determine how likely astudent are to admitted using gpa and gre and prestige."
   ]
  },
  {
   "cell_type": "markdown",
   "metadata": {},
   "source": [
    "## Problem Statement"
   ]
  },
  {
   "cell_type": "code",
   "execution_count": 2,
   "metadata": {
    "collapsed": false
   },
   "outputs": [],
   "source": [
    "#Answer: Using admission data, determine how likely astudent are to admitted using gpa and gre and prestige. High Gpa and low Gre or\n",
    "low Gpa and High Gre make a difference in admission. Also what is lowest score in GRE and GPA needed to be admitted."
   ]
  },
  {
   "cell_type": "markdown",
   "metadata": {},
   "source": [
    "### Exploratory Analysis Plan"
   ]
  },
  {
   "cell_type": "markdown",
   "metadata": {},
   "source": [
    "#Using the lab from a class as a guide, create an exploratory analysis plan. \n",
    "#exploratory analysis plan:\n",
    "#We need to find missing value for predictor\n",
    "#calculate mean median mode and standard deviation for \tcontinuous variable\n",
    "#find missing data and handle missing data\n",
    "#using calulcated information we need to find outliner\n",
    "##Firt find total records in admission file\n"
   ]
  },
  {
   "cell_type": "markdown",
   "metadata": {},
   "source": [
    "#### 1. What are the goals of the exploratory analysis? "
   ]
  },
  {
   "cell_type": "code",
   "execution_count": null,
   "metadata": {
    "collapsed": true
   },
   "outputs": [],
   "source": [
    "###We need to find outliers, get insight into data, estimate variable and find model fitting"
   ]
  },
  {
   "cell_type": "code",
   "execution_count": 9,
   "metadata": {
    "collapsed": false
   },
   "outputs": [
    {
     "name": "stdout",
     "output_type": "stream",
     "text": [
      "count    398.000000\n",
      "mean     588.040201\n",
      "std      115.628513\n",
      "min      220.000000\n",
      "25%      520.000000\n",
      "50%      580.000000\n",
      "75%      660.000000\n",
      "max      800.000000\n",
      "Name: gre, dtype: float64\n",
      "count    398.00000\n",
      "mean       3.39093\n",
      "std        0.38063\n",
      "min        2.26000\n",
      "25%        3.13000\n",
      "50%        3.39500\n",
      "75%        3.67000\n",
      "max        4.00000\n",
      "Name: gpa, dtype: float64\n",
      "     admit    gre  gpa  prestige\n",
      "187      0    NaN  NaN       2.0\n",
      "236      1  660.0  NaN       NaN\n",
      "     admit  gre   gpa  prestige\n",
      "187      0  NaN   NaN       2.0\n",
      "212      0  NaN  2.87       2.0\n",
      "241.9807472\n",
      "934.0192528\n",
      "     admit    gre   gpa  prestige\n",
      "304      0  220.0  2.83       3.0\n",
      "Empty DataFrame\n",
      "Columns: [admit, gre, gpa, prestige]\n",
      "Index: []\n"
     ]
    },
    {
     "data": {
      "image/png": "[encoded data removed]",
      "text/plain": [
       "<matplotlib.figure.Figure at 0xbe57eb8>"
      ]
     },
     "metadata": {},
     "output_type": "display_data"
    },
    {
     "data": {
      "image/png": "[encoded data removed]",
      "text/plain": [
       "<matplotlib.figure.Figure at 0xbc27710>"
      ]
     },
     "metadata": {},
     "output_type": "display_data"
    }
   ],
   "source": [
    "import pandas as pd\n",
    "from sklearn import linear_model, preprocessing\n",
    "import numpy as np\n",
    "import matplotlib.pyplot as plt\n",
    "import csv\n",
    "%matplotlib inline\n",
    "#Read admission file\n",
    "admission_csv = admission_csv = pd.read_csv(\"C:/users/u294981/Documents/GitHub/DatasCience/CHI-DS-3/projects/unit-projects/unit-project-1/assets/admissions.csv\")\n",
    "len(admission_csv.index)\n",
    "#Analyze quantitative variable\n",
    "print admission_csv['gre'].describe()\n",
    "print admission_csv['gpa'].describe()\n",
    "#finding missing value\n",
    "missing_gpa = admission_csv[pd.isnull(admission_csv['gpa'])]\n",
    "print missing_gpa\n",
    "missing_gre = admission_csv[pd.isnull(admission_csv['gre'])]\n",
    "print missing_gre\n",
    "#using meadin to fill missing null\n",
    "admission_csv.loc[:,'gpa'] = admission_csv['gpa'].fillna(admission_csv['gpa'].median())\n",
    "admission_csv['gre'] = admission_csv['gre'].fillna(admission_csv['gre'].median())\n",
    "#finding outliner for Gre, there no outliner for GPA\n",
    "outlier_gre = (admission_csv['gre'].mean() - (3 * admission_csv['gre'].std()))\n",
    "print outlier_gre \n",
    "outlier_gre1 = (admission_csv['gre'].mean() + (3 * admission_csv['gre'].std()))\n",
    "print outlier_gre1 \n",
    "\n",
    "print (admission_csv.loc[admission_csv['gre'] < outlier_gre])\n",
    "print(admission_csv.loc[admission_csv['gre'] > outlier_gre1])\n",
    "#Check distribution of Gre and Gpa\n",
    "import matplotlib.pyplot as plt\n",
    "plt.figure();\n",
    "admission_csv[\"gpa\"].plot.hist(alpha=0.5)\n",
    "plt.show()\n",
    "\n",
    "admission_csv[\"gre\"].plot.hist(alpha=0.5)\n",
    "plt.show()\n"
   ]
  },
  {
   "cell_type": "markdown",
   "metadata": {
    "collapsed": true
   },
   "source": []
  },
  {
   "cell_type": "markdown",
   "metadata": {},
   "source": [
    "#### 2a. How will you examine for and handle the presence of missing data ?"
   ]
  },
  {
   "cell_type": "markdown",
   "metadata": {},
   "source": [
    "###I will find out missing data by describing data frame. I will apply median to fill missing data\n",
    "\n"
   ]
  },
  {
   "cell_type": "markdown",
   "metadata": {},
   "source": [
    "#### 2b. How will determine the distribution of your data? "
   ]
  },
  {
   "cell_type": "markdown",
   "metadata": {
    "collapsed": true
   },
   "source": [
    "#I will find out standard deviation \n"
   ]
  },
  {
   "cell_type": "markdown",
   "metadata": {},
   "source": [
    "#### 4b. How will you test for unusually recorded data? "
   ]
  },
  {
   "cell_type": "markdown",
   "metadata": {},
   "source": [
    "#Check for Ouliner"
   ]
  },
  {
   "cell_type": "markdown",
   "metadata": {},
   "source": [
    "#### 5. What is your exploratory analysis plan?\n",
    "Using the above information, write an exploratory analysis plan that would allow you or a colleague to reproduce your analysis 1 year from now. "
   ]
  },
  {
   "cell_type": "markdown",
   "metadata": {},
   "source": [
    "Answer: "
   ]
  },
  {
   "cell_type": "markdown",
   "metadata": {},
   "source": [
    "## Bonus Questions:\n",
    "1. Write an alternative problem statement for your dataset"
   ]
  },
  {
   "cell_type": "code",
   "execution_count": null,
   "metadata": {
    "collapsed": true
   },
   "outputs": [],
   "source": [
    "Determine which variable have higher impact on admission GPA or GRE and if prestige is relevant or need to be ignored.\n"
   ]
  }
 ],
 "metadata": {
  "kernelspec": {
   "display_name": "Python 2",
   "language": "python",
   "name": "python2"
  },
  "language_info": {
   "codemirror_mode": {
    "name": "ipython",
    "version": 2
   },
   "file_extension": ".py",
   "mimetype": "text/x-python",
   "name": "python",
   "nbconvert_exporter": "python",
   "pygments_lexer": "ipython2",
   "version": "2.7.11"
  }
 },
 "nbformat": 4,
 "nbformat_minor": 0
}
